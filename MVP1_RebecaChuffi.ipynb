{
  "nbformat": 4,
  "nbformat_minor": 0,
  "metadata": {
    "colab": {
      "provenance": [],
      "toc_visible": true,
      "authorship_tag": "ABX9TyPHft12P2m0QsDqFbb+bEgR",
      "include_colab_link": true
    },
    "kernelspec": {
      "name": "python3",
      "display_name": "Python 3"
    },
    "language_info": {
      "name": "python"
    }
  },
  "cells": [
    {
      "cell_type": "markdown",
      "metadata": {
        "id": "view-in-github",
        "colab_type": "text"
      },
      "source": [
        "<a href=\"https://colab.research.google.com/github/rebecachuffi/mvp1/blob/main/MVP1_RebecaChuffi.ipynb\" target=\"_parent\"><img src=\"https://colab.research.google.com/assets/colab-badge.svg\" alt=\"Open In Colab\"/></a>"
      ]
    },
    {
      "cell_type": "markdown",
      "source": [
        "# MVP Análise de Dados e Boas Práticas\n",
        "\n",
        "**Nome:** Rebeca Chuffi Saccochi\n",
        "\n",
        "**Matrícula:** 4052025000049\n",
        "\n",
        "**Dataset:** [World Happiness Report](https://www.kaggle.com/datasets/unsdsn/world-happiness/data)\n",
        "\n"
      ],
      "metadata": {
        "id": "kGbHufKG_Dq1"
      }
    },
    {
      "cell_type": "markdown",
      "source": [
        "# Descrição do Problema\n",
        "\n",
        "O conjunto de dados **\"World Happiness Report\"** é um conjunto que apresenta uma maneira de mensurar felicidade através de alguns índices que serão definidos em breve. O *dataset* em questão é formado por 5 subconjuntos referentes aos anos de 2015, 2016, 2017, 2018 e 2019, considerando 158 países. A motivação para analisar esse dataset veio de um TedTalk chamado [Choice, happiness and spaghetti sauce](https://www.ted.com/talks/malcolm_gladwell_choice_happiness_and_spaghetti_sauce) - Malcolm Gladwell, que analisou um aspecto curioso da natureza das escolhas e da felicidade. Assisti  esse *Tedtalk* em 2016 e o fato da felicidade não ser um indicador simples de ser mensurado e de, potencialmente, depender de vários outros possíveis fatores, me chamou a atenção fez com que esse *dataset* particular sobre felicidade se destacasse em meio a tantos outras possibilidades.\n",
        "\n",
        "O objetivo inicial deste projeto é entender o comportamento dos fatores utilizados para a definição do **Score de Felicidade** - Economy (GDP per Capita), Family, Health (Life Expectancy), Freedom, Trust (Government Corruption) e Generosity, além de entender em que região os países se encontram, se existe alguma correlação entre os continentes e o peso de cada fator para felicidade. Depois de entender a estrutura dos dados, utilizaremos regressão para prever o Score de Felicidade baseado em algumas das variáveis apresentadas.\n",
        "\n",
        "*  Análise Temporal: entender a evolução da felicidade ao longos dos anos e os possíveis impactos de eventos globais nas métricas. Além disso, escolher alguns países para analisas individualmente as mudanças no nível de felicidade.\n",
        "\n",
        "*  Problemas de Classificação: classificar os países como Classe 1, Classe 2, Classe 3 (de acordo com o score de felicidade) (através de média e mediana?)\n",
        "\n",
        "*  Padrões ocultos: Países com alto PIB, mas baixa felicidade?\n",
        "\n",
        "*  Agrupar países com característica socioeconomicas semelhantes para fazer as análises. (Usar Kmeans para fazer isso) para virar classes.  \n",
        "\n",
        "\n",
        "------------\n",
        "Quais países ou regiões possuem as maiores pontuações em felicidade geral e em cada um dos seis fatores que contribuem para a felicidade?\n",
        "\n",
        "Como as classificações ou pontuações dos países mudaram entre os relatórios de 2015 e 2016, bem como entre 2016 e 2017?\n",
        "\n",
        "Algum país apresentou um aumento ou uma queda significativa na felicidade durante esses anos?\n",
        "\n",
        "\n",
        "\n",
        "\n"
      ],
      "metadata": {
        "id": "umKsssD2AGTs"
      }
    },
    {
      "cell_type": "markdown",
      "source": [
        "## Hipóteses do Problema\n",
        "\n",
        "As hipóteses que tracei são as seguintes:\n",
        "\n",
        "- Relação entre tamanho da população, hapiness score e felicidade\n",
        "\n",
        "- Existe uma correlação entre a Economia e Hapiness Score?\n",
        "\n",
        "- Existe uma correlação entre a Continentes e Hapiness Score?\n",
        "\n",
        "-"
      ],
      "metadata": {
        "id": "E6N5qnTGWuKO"
      }
    },
    {
      "cell_type": "markdown",
      "source": [
        "## Tipo de Problema\n",
        "falta!!!!!!!\n",
        "\n",
        "Este é um problema de **classificação supervisionada**. Dado um conjunto de características (comprimento e largura da sépala, comprimento e largura da pétala), o objetivo é prever a qual das três classes (espécies de Íris) uma determinada flor pertence."
      ],
      "metadata": {
        "id": "wAHUTb-KYC6Q"
      }
    },
    {
      "cell_type": "markdown",
      "source": [
        "## Seleção de Dados\n",
        "\n",
        "O dataset Iris é um conjunto de dados amplamente disponível e frequentemente incluído em bibliotecas de aprendizado de máquina, como *scikit-learn* no Python. Não é necessária uma etapa de seleção de dados externa, pois o dataset já está curado e pronto para uso."
      ],
      "metadata": {
        "id": "ernXGWXtYKvd"
      }
    },
    {
      "cell_type": "markdown",
      "source": [
        "## Atributos do Dataset\n",
        "\n",
        "Nosso dataset, que aqui chamaremos apenas de **Happiness**, é formado por 5 subconjuntos referentes aos anos de 2015, 2016, 2017, 2018 e 2019 (com 158 instâncias cada). Ele possui os seguintes atributos:\n",
        "━━━━━━━━━━━━━━━━━━━━\n",
        "\n",
        "### Atributos e como foram coletados:\n",
        "\n",
        "\n",
        "- ***Happiness Score*** (Score de Felicidade): esse é nosso atributo principal. Os dados foram retirados do *survey* do Gallup World Poll (GWP) dos anos de 2005 até 2020. O domínio do *Happiness Score* varia de 0 (pior vida que você pode imaginar) até 10 (melhor dia que você pode imaginar). Além disso, o *Happiness Score* de cada país representa a **média** nacional.\n",
        "\n",
        "- ***Happiness Rank*** (Rank de felicidade considerando os 158 países)\n",
        "\n",
        "Para calcular o *Happiness Score*, compusemos os dados de outros atributos específicos que serão detalhados a seguir:\n",
        "\n",
        "As colunas que aparecem após a pontuação de felicidade estimam o quanto cada um dos seis fatores abaixo contribuem para que a avaliação da vida em cada país seja mais alta do que seria em um país hipotético chamado Dystopia, que possui os piores valores médios do mundo para cada um desses seis indicadores.\n",
        "\n",
        "- ***Economy (GDP per Capita)*** (PIB per capita): O PIB per capita está expresso em Paridade de Poder de Compra (PPP), ajustado para dólares internacionais constantes de 2021, obtido dos World Development Indicators (WDI) do Banco Mundial. Não é o valor nominal do PIB, mas sim ajustado pelo custo de vida de cada país. Além disso, é utilizado o log do PIB per capita, pois ele captura melhor a relação não-linear. Por exemplo, um aumento de USD $1.000$ no PIB per capita impacta muito mais um país pobre (ex: USD $500$ → USD $1.500$) que um país rico (ex: USD $50.000$ → USD $51.000$),\n",
        "- ***Family*** (Família): mede a disponibilidade de apoio emocional ou material em tempos de dificuldade a partir da seguinte pergunta: \"Se você estivesse em apuros, há parentes ou amigos que poderiam ajudar?\"\n",
        "- ***Health (Life Expectancy)*** (Saúde - expectativa de vida): calculada através dos dois fatores:expectativa de vida ao nascer (dados da OMS) e ajustado pela fração de anos vividos com saúde (usando dados de morbidade e incapacidade). Padronização: Os valores são normalizados para uma escala comparável entre países.\n",
        "- ***Freedom*** (Liberdade): média das respostas binárias à pergunta \"Você está satisfeito ou insatisfeito com a sua liberdade de escolher o que fazer com sua própria vida?\".\n",
        "- ***Trust (Government Corruption)*** (Corrupção): média das respostas binárias das duas perguntas: \"A corrupção está disseminada no governo ou não?\" e \"A corrupção está disseminada nas empresas ou não?\". Essas duas perguntas avaliam a percepção das pessoas sobre a corrupção no setor público e privado.\n",
        "- ***Generosity*** (Generosidade): primeiro é calculado quanto de doação seria esperado para cada país baseado apenas na sua riqueza (PIB per capita). A \"generosidade\" é definida como a diferença entre o quanto o país realmente doa e o quanto seria esperado que ele doasse por causa da sua riqueza.\n",
        "\n",
        "\n",
        "- ***Dystopia*** (Distopia residual): **Dystopia** é um país imaginário que representa uma sociedade hipotética caótica, opressiva e indesejável, onde prevalecem sofrimento, injustiça e ausência de liberdade. A criação da **Dystopia** fornece um ponto de referência em que todos os países podem ser favoravelmente comparados (nenhum país tem desempenho pior do que Dystopia) em relação aos seis principais indicadores que compoem o *Happiness Score*.\n",
        "\n",
        "***Dystopia Residual***: a diferença entre a felicidade real de um país e a distopia\n",
        "\n",
        "━━━━━━━━━━━━━━━━━━━━━\n",
        "\n",
        "**OBSERVAÇÃO IMPORTANTE:**\n",
        "Os menores valores observados para os seis indicadores caracterizam **Dystopia** e, portanto, esse valor muda anualmente. Por conta disso, observamos algo **IMPORTANTE**: não é possível comparar os valores absolutos de felicidade durante anos diferentes, pois o valor da felicidade para **Dystopia** muda, e assim a percepção de uma felicidade com score de 5.5 em 2015 pode ser diferente da mesma nota em 2016. Para resolver esse problema metodológico, usaremos algumas técnicas que tornarão os dados comparáveis.\n",
        "\n",
        "\n",
        "━━━━━━━━━━━━━━━━━━━━\n",
        "### Cálculo do Hapiness Score:\n",
        "O Hapiness Score de cada país foi calculado por uma **regressão de mínimos quadrados ordinários (MQO)** com 6 variáveis explicativas (aquelas que citamos acima) + Dystopia (por exemplo, $1.85$ em 2015) + Residua."
      ],
      "metadata": {
        "id": "8nAfAwhsYV-N"
      }
    },
    {
      "cell_type": "markdown",
      "source": [
        "# Importação das Bibliotecas Necessárias e Carga de Dados\n",
        "\n"
      ],
      "metadata": {
        "id": "tI0oHeLisEeX"
      }
    },
    {
      "cell_type": "code",
      "source": [
        "#Manipulação de data frames\n",
        "import pandas as pd\n",
        "\n",
        "#manipulação numérica\n",
        "import numpy as np\n",
        "\n",
        "#construção de gráficos\n",
        "import matplotlib.pyplot as plt\n",
        "\n",
        "#exibição de dados no jupyter notebook\n",
        "from IPython.display import display\n",
        "\n",
        "#pré-processamento e modelos\n",
        "from sklearn.model_selection import train_test_split\n",
        "from sklearn.preprocessing import StandardScaler, MinMaxScaler, OneHotEncoder\n",
        "from sklearn.decomposition import PCA\n",
        "from sklearn.compose import ColumnTransformer\n",
        "from sklearn.pipeline import Pipeline"
      ],
      "metadata": {
        "id": "lsdUDdaisyxC"
      },
      "execution_count": null,
      "outputs": []
    }
  ]
}